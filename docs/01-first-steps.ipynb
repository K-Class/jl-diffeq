{
 "cells": [
  {
   "cell_type": "markdown",
   "metadata": {},
   "source": [
    "# First Steps\n",
    "\n",
    "- [DifferentialEquations.jl docs](https://diffeq.sciml.ai/dev/index.html)\n",
    "\n",
    "## Radioactive decay\n",
    "\n",
    "How to define your model, state variables, initial (and/or boundary) conditions, and parameters.\n",
    "\n",
    "As a simple example, the concentration of a decaying nuclear isotope could be described as an exponential decay:\n",
    "\n",
    "$$\n",
    "\\frac{d}{dt}C(t) = - \\lambda C(t)\n",
    "$$\n",
    "\n",
    "**State variable(s)**\n",
    "- $C(t)$: The concentration of a decaying nuclear isotope.\n",
    "\n",
    "**Parameter(s)**\n",
    "- $\\lambda$: The rate constant of decay. The half-life $t_{\\frac{1}{2}} = \\frac{ln2}{\\lambda}$\n",
    "\n",
    "### Standard operating procedures\n",
    "\n",
    "- Define a model function representing the right-hand-side (RHS) of the sysstem.\n",
    "  - Out-of-place form: `f(u, p, t)` where `u` is the state variable(s), `p` is the parameter(s), and `t` is the independent variable (usually time). The output is the right hand side (RHS) of the differential equation system.\n",
    "  - In-place form: `f!(du, u, p, t)`, where the output is saved to `du`. The rest is the same as the out of place form. The in-place form has potential performance benefits since it allocates less arrays than the out-of-place form.\n",
    "- Initial conditions (`u0`) for the state variable(s).\n",
    "- (Optional) parameter(s) `p`.\n",
    "- Define a problem (e.g. `ODEProblem`) using the modeling function (`f`), initial conditions (`u0`), simulation time span (`tspan == (tstart, tend)`), and parameter(s) `p`.\n",
    "- Solve the problem by calling `solve(prob)`."
   ]
  },
  {
   "cell_type": "code",
   "execution_count": null,
   "metadata": {},
   "outputs": [],
   "source": [
    "using DifferentialEquations\n",
    "using Plots\n",
    "\n",
    "# The Exponential decay ODE model, out-of-place form\n",
    "expdecay(u, p, t) = p * u\n",
    "\n",
    "p = -1.0 # Parameter\n",
    "u0 = 1.0 # Initial condition\n",
    "tspan = (0.0, 2.0) # Simulation start and end time points\n",
    "prob = ODEProblem(expdecay, u0, tspan, p) # Define the problem\n",
    "sol = solve(prob) # Solve the problem"
   ]
  },
  {
   "cell_type": "markdown",
   "metadata": {},
   "source": [
    "### Visualization\n",
    "\n",
    "`DifferentialEquations.jl` has a plot recipe so that `plot(sol)` directly visualizes the time series of the state variable(s)."
   ]
  },
  {
   "cell_type": "code",
   "execution_count": null,
   "metadata": {},
   "outputs": [],
   "source": [
    "using Plots\n",
    "plot(sol) # Visualize the solution"
   ]
  },
  {
   "cell_type": "markdown",
   "metadata": {},
   "source": [
    "### Solution handling\n",
    "\n",
    "Docs: https://diffeq.sciml.ai/stable/basics/solution/\n",
    "\n",
    "`sol(t)`: solution at time `t` with interpolations."
   ]
  },
  {
   "cell_type": "code",
   "execution_count": null,
   "metadata": {},
   "outputs": [],
   "source": [
    "sol(1.0)  # "
   ]
  },
  {
   "cell_type": "markdown",
   "metadata": {},
   "source": [
    "`sol.t`: time points of the solution. Notice *t=1* may not in one of the time points."
   ]
  },
  {
   "cell_type": "code",
   "execution_count": null,
   "metadata": {},
   "outputs": [],
   "source": [
    "sol.t"
   ]
  },
  {
   "cell_type": "markdown",
   "metadata": {},
   "source": [
    "`sol.u`: The solution at time points `sol.t`"
   ]
  },
  {
   "cell_type": "code",
   "execution_count": null,
   "metadata": {},
   "outputs": [],
   "source": [
    "sol.u"
   ]
  },
  {
   "cell_type": "markdown",
   "metadata": {},
   "source": [
    "## The SIR model\n",
    "\n",
    "A more complicated example is the [SIR model](https://www.maa.org/press/periodicals/loci/joma/the-sir-model-for-spread-of-disease-the-differential-equation-model) describing infectious disease spreading. There are more state variables and parameters.\n",
    "\n",
    "$$\n",
    "\\begin{align}\n",
    "\\frac{d}{dt}S(t) &= - \\beta S(t)I(t)  \\\\\n",
    "\\frac{d}{dt}I(t) &= \\beta S(t)I(t)  - \\gamma I(t)  \\\\\n",
    "\\frac{d}{dt}R(t) &= \\gamma I(t)\n",
    "\\end{align}\n",
    "$$\n",
    "\n",
    "**State variable(s)**\n",
    "\n",
    "- $S(t)$ : the fraction of susceptible people\n",
    "- $I(t)$ : the fraction of infectious people\n",
    "- $R(t)$ : the fraction of recovered (or removed) people\n",
    "\n",
    "**Parameter(s)**\n",
    "\n",
    "- $\\beta$ : the rate of infection when susceptible and infectious people meet\n",
    "- $\\gamma$ : the rate of recovery of infectious people"
   ]
  },
  {
   "cell_type": "code",
   "execution_count": null,
   "metadata": {},
   "outputs": [],
   "source": [
    "using DifferentialEquations\n",
    "using Plots\n",
    "\n",
    "# SIR model, in-place form\n",
    "function sir!(du, u, p ,t)\n",
    "\ts, i, r = u\n",
    "\tβ, γ = p\n",
    "\tv1 = β * s * i\n",
    "\tv2 = γ * i\n",
    "    du[1] = -v1\n",
    "    du[2] = v1 - v2\n",
    "    du[3] = v2\n",
    "\treturn nothing\n",
    "end\n",
    "\n",
    "# Parameters of the SIR model\n",
    "p = (β = 1.0, γ = 0.3)\n",
    "u0 = [0.99, 0.01, 0.00]  # s, i, r\n",
    "tspan = (0.0, 20.0)\n",
    "\n",
    "# Define a problem\n",
    "prob = ODEProblem(sir!, u0, tspan, p)\n",
    "\n",
    "# Solve the problem\n",
    "sol = solve(prob)\n",
    "\n",
    "# Visualize the solution\n",
    "plot(sol, label=[\"S\" \"I\" \"R\"], legend=:right)"
   ]
  },
  {
   "cell_type": "markdown",
   "metadata": {},
   "source": [
    "### Solution handling\n",
    "\n",
    "`sol[i, j]`: `i`th component at timestep `j`"
   ]
  },
  {
   "cell_type": "code",
   "execution_count": null,
   "metadata": {},
   "outputs": [],
   "source": [
    "sol[2]"
   ]
  },
  {
   "cell_type": "code",
   "execution_count": null,
   "metadata": {},
   "outputs": [],
   "source": [
    "sol[1, 2]"
   ]
  },
  {
   "cell_type": "markdown",
   "metadata": {},
   "source": [
    "`sol[i, :]`: the timeseries for the `i`th component."
   ]
  },
  {
   "cell_type": "code",
   "execution_count": null,
   "metadata": {},
   "outputs": [],
   "source": [
    "sol[1, :]"
   ]
  },
  {
   "cell_type": "markdown",
   "metadata": {},
   "source": [
    "`sol(t,idxs=1)`: the 1st element in time point(s) `t` with interpolation. `t` can be a scalar (single point) or an vector-like sequence. (multiple time points)"
   ]
  },
  {
   "cell_type": "code",
   "execution_count": null,
   "metadata": {},
   "outputs": [],
   "source": [
    "sol(10, idxs=2)"
   ]
  },
  {
   "cell_type": "code",
   "execution_count": null,
   "metadata": {},
   "outputs": [],
   "source": [
    "sol(0.0:0.1:20.0, idxs=2)"
   ]
  },
  {
   "cell_type": "markdown",
   "metadata": {},
   "source": [
    "## Lorenz system\n",
    "\n",
    "The Lorenz system is a system of ordinary differential equations having chaotic solutions for certain parameter values and initial conditions. ([Wikipedia](https://en.wikipedia.org/wiki/Lorenz_system))\n",
    "\n",
    "$$\n",
    "\\begin{align}\n",
    "  \\frac{dx}{dt} &=& \\sigma(y-x) \\\\\n",
    "  \\frac{dy}{dt} &=& x(\\rho - z) -y \\\\\n",
    "  \\frac{dz}{dt} &=& xy - \\beta z\n",
    "\\end{align}\n",
    "$$\n",
    "\n",
    "In this example, we will use [LabelledArrays.jl](https://github.com/SciML/LabelledArrays.jl) to get DSL-like syntax."
   ]
  },
  {
   "cell_type": "code",
   "execution_count": null,
   "metadata": {},
   "outputs": [],
   "source": [
    "using LabelledArrays\n",
    "using DifferentialEquations\n",
    "using Plots\n",
    "\n",
    "function lorenz!(du,u,p,t)\n",
    "    du.x = p.σ*(u.y-u.x)\n",
    "    du.y = u.x*(p.ρ-u.z) - u.y\n",
    "    du.z = u.x*u.y - p.β*u.z\n",
    "end\n",
    "\n",
    "u0 = LVector(x=1.0, y=0.0, z=0.0)\n",
    "p = LVector(σ=10.0, ρ=28.0, β=8/3)\n",
    "tspan = (0.0,100.0)\n",
    "prob = ODEProblem(lorenz!,u0,tspan,p)\n",
    "sol = solve(prob)"
   ]
  },
  {
   "cell_type": "markdown",
   "metadata": {},
   "source": [
    "### Visualization\n",
    "\n",
    "`vars=(1, 2, 3)`: make a phase plot with 1st, 2nd, and the 3rd state variable. With LabelledArrays, you can use symbols instead of numbers."
   ]
  },
  {
   "cell_type": "code",
   "execution_count": null,
   "metadata": {},
   "outputs": [],
   "source": [
    "plot(sol, vars=(:x, :y, :z))"
   ]
  }
 ],
 "metadata": {
  "kernelspec": {
   "display_name": "Julia 1.7.2",
   "language": "julia",
   "name": "julia-1.7"
  },
  "language_info": {
   "file_extension": ".jl",
   "mimetype": "application/julia",
   "name": "julia",
   "version": "1.7.2"
  },
  "orig_nbformat": 4
 },
 "nbformat": 4,
 "nbformat_minor": 2
}
