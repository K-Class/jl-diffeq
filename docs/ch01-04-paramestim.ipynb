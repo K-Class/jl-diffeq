{
 "cells": [
  {
   "cell_type": "markdown",
   "metadata": {},
   "source": [
    "# Parameter estimation\n",
    "\n",
    "`DiffEqParamEstim.jl` is not installed by default with `DifferentialEquations.jl`. You can install it via the following script:\n",
    "\n",
    "```julia\n",
    "using Pkg\n",
    "Pkg.add(\"DiffEqParamEstim\")\n",
    "using DiffEqParamEstim\n",
    "```\n",
    "\n"
   ]
  },
  {
   "cell_type": "markdown",
   "metadata": {},
   "source": [
    "## Estimate a single parameter from the data and the ODE model\n",
    "\n",
    "Let's optimize the parameters of the Lotka-Volterra equation."
   ]
  },
  {
   "cell_type": "code",
   "execution_count": null,
   "metadata": {},
   "outputs": [],
   "source": [
    "using DifferentialEquations\n",
    "using Plots\n",
    "using DiffEqParamEstim\n",
    "using Optim"
   ]
  },
  {
   "cell_type": "code",
   "execution_count": null,
   "metadata": {},
   "outputs": [],
   "source": [
    "function lotka_volterra!(du, u, p, t)\n",
    "    du[1] = dx = p[1]*u[1] - u[1]*u[2]\n",
    "    du[2] = dy = -3*u[2] + u[1]*u[2]\n",
    "end"
   ]
  },
  {
   "cell_type": "code",
   "execution_count": null,
   "metadata": {},
   "outputs": [],
   "source": [
    "u0 = [1.0;1.0]\n",
    "tspan = (0.0,10.0)\n",
    "p = [1.5]\n",
    "prob = ODEProblem(lotka_volterra!, u0, tspan, p)\n",
    "sol = solve(prob, Tsit5())\n",
    "\n",
    "ts = range(0, stop=10, length=200)"
   ]
  },
  {
   "cell_type": "markdown",
   "metadata": {},
   "source": [
    "We build a sample data with some randomness."
   ]
  },
  {
   "cell_type": "code",
   "execution_count": null,
   "metadata": {},
   "outputs": [],
   "source": [
    "data = [sol.(ts, idxs=1) sol.(ts, idxs=2)] .* (1 .+ 0.01 .* randn(length(ts), 2))"
   ]
  },
  {
   "cell_type": "code",
   "execution_count": null,
   "metadata": {},
   "outputs": [],
   "source": [
    "plot(sol)\n",
    "scatter!(ts, data)"
   ]
  },
  {
   "cell_type": "markdown",
   "metadata": {},
   "source": [
    "We can simply call `build_loss_objective()` to build a loss function for the ODE problem with the data."
   ]
  },
  {
   "cell_type": "code",
   "execution_count": null,
   "metadata": {},
   "outputs": [],
   "source": [
    "cost_function = build_loss_objective(prob, Tsit5(), L2Loss(collect(ts), transpose(data)), maxiters=10000, verbose=false)\n",
    "\n",
    "vals = 0.0:0.1:10.0\n",
    "\n",
    "plot(cost_function, vals, lw = 3, label=false, yscale=:log10,\n",
    "     xaxis = \"Parameter\", yaxis = \"Cost\", title = \"1-Parameter Cost Function\"\n",
    ")"
   ]
  },
  {
   "cell_type": "markdown",
   "metadata": {},
   "source": [
    "The cost function can be used with compatible optimizers. For instance, the ones from `Optim.jl`:"
   ]
  },
  {
   "cell_type": "code",
   "execution_count": null,
   "metadata": {},
   "outputs": [],
   "source": [
    "result = Optim.optimize(cost_function, 0.0, 10.0)"
   ]
  },
  {
   "cell_type": "code",
   "execution_count": null,
   "metadata": {},
   "outputs": [],
   "source": [
    "result.minimizer"
   ]
  },
  {
   "cell_type": "markdown",
   "metadata": {},
   "source": [
    "We have recovered the true parameter of 1.5!"
   ]
  }
 ],
 "metadata": {
  "kernelspec": {
   "display_name": "Julia 1.8.0",
   "language": "julia",
   "name": "julia-1.8"
  },
  "language_info": {
   "file_extension": ".jl",
   "mimetype": "application/julia",
   "name": "julia",
   "version": "1.8.0"
  },
  "orig_nbformat": 4
 },
 "nbformat": 4,
 "nbformat_minor": 2
}
