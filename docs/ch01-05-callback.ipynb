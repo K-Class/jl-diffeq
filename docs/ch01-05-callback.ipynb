{
 "cells": [
  {
   "cell_type": "markdown",
   "metadata": {},
   "source": [
    "# Callbacks and Events\n",
    "\n",
    "Docs:\n",
    "- https://diffeq.sciml.ai/stable/features/callback_functions/#Using-Callbacks\n",
    "- https://tutorials.sciml.ai/html/introduction/04-callbacks_and_events.html\n",
    "\n",
    "## Types\n",
    "\n",
    "- `ContinuousCallback`: applied when a given *continuous condition* function hits zero. SciML solvers are able to interpolate the integration step to meet the condition.\n",
    "- `DiscreteCallback`: applied when its condition function is true.\n",
    "- `CallbackSet(cb1, cb2, ...)`: Multiple callbacks can be chained together to form a `CallbackSet`.\n",
    "- `VectorContinuousCallback`: an array of `ContinuousCallback`s.\n",
    "\n",
    "## How to\n",
    "\n",
    "After you define a callback, send it to the `solve()` function:\n",
    "\n",
    "```julia\n",
    "sol = solve(prob, alg, callback=cb)\n",
    "```"
   ]
  },
  {
   "cell_type": "markdown",
   "metadata": {},
   "source": [
    "## DiscreteCallback : Interventions at Preset Times\n",
    "\n",
    "The drug concentration in the blood follows exponential decay."
   ]
  },
  {
   "cell_type": "code",
   "execution_count": null,
   "metadata": {},
   "outputs": [],
   "source": [
    "using DifferentialEquations\n",
    "using Plots\n",
    "Plots.gr(lw=3)\n",
    "\n",
    "function dosing!(du, u, p, t)\n",
    "    du[1] = -u[1]\n",
    "end\n",
    "\n",
    "u0 = [10.0]\n",
    "\n",
    "prob = ODEProblem(dosing!, u0, (0.0,10.0))\n",
    "sol = solve(prob, Tsit5())\n",
    "\n",
    "plot(sol)"
   ]
  },
  {
   "cell_type": "markdown",
   "metadata": {},
   "source": [
    "Add a dose of 10 at t = 4. You may need to force the solver to stop at `t==4` (hence the `tstops=[4.0]`) to apply the callback."
   ]
  },
  {
   "cell_type": "code",
   "execution_count": null,
   "metadata": {},
   "outputs": [],
   "source": [
    "condition(u, t, integrator) = t==4\n",
    "affect!(integrator) = integrator.u[1] += 10\n",
    "cb = DiscreteCallback(condition, affect!)\n",
    "\n",
    "sol = solve(prob, Tsit5(), callback=cb, tstops=[4.0])\n",
    "plot(sol)"
   ]
  },
  {
   "cell_type": "markdown",
   "metadata": {},
   "source": [
    "Applying multiple doses."
   ]
  },
  {
   "cell_type": "code",
   "execution_count": null,
   "metadata": {},
   "outputs": [],
   "source": [
    "dosetimes = [4.0, 8.0]\n",
    "condition(u,t,integrator) = t ∈ dosetimes\n",
    "affect!(integrator) = integrator.u[1] += 10\n",
    "cb = DiscreteCallback(condition,affect!)\n",
    "\n",
    "sol = solve(prob, Tsit5(), callback=cb, tstops=dosetimes)\n",
    "plot(sol)"
   ]
  },
  {
   "cell_type": "markdown",
   "metadata": {},
   "source": [
    "Conditional dosing. Note that a dose was not given at t=6 because the conceentration is not more than 1."
   ]
  },
  {
   "cell_type": "code",
   "execution_count": null,
   "metadata": {},
   "outputs": [],
   "source": [
    "dosetimes = [4.0, 6.0, 8.0]\n",
    "condition(u,t,integrator) = t ∈ dosetimes && (u[1] < 1.0)\n",
    "affect!(integrator) = integrator.u[1] += 10integrator.t\n",
    "cb = DiscreteCallback(condition, affect!)\n",
    "\n",
    "sol = solve(prob, Tsit5(), callback=cb, tstops=dosetimes)\n",
    "plot(sol)"
   ]
  },
  {
   "cell_type": "markdown",
   "metadata": {},
   "source": [
    "### PresetTimeCallback\n",
    "\n",
    "`PresetTimeCallback(tstops, affect!)` takes an array of times and an `affect!` function to apply. The solver will stop at `tstops` to ensure callbacks are applied."
   ]
  },
  {
   "cell_type": "code",
   "execution_count": null,
   "metadata": {},
   "outputs": [],
   "source": [
    "dosetimes = [4.0, 8.0]\n",
    "affect!(integrator) = integrator.u[1] += 10\n",
    "cb = PresetTimeCallback(dosetimes, affect!)\n",
    "sol = solve(prob, Tsit5(), callback=cb)\n",
    "plot(sol)"
   ]
  },
  {
   "cell_type": "markdown",
   "metadata": {},
   "source": [
    "### Periodic callback\n",
    "\n",
    "`PeriodicCallback` is a special case of `DiscreteCallback`, used when a function should be called periodically in terms of integration time (as opposed to wall time)."
   ]
  },
  {
   "cell_type": "code",
   "execution_count": null,
   "metadata": {},
   "outputs": [],
   "source": [
    "prob = ODEProblem(dosing!, u0, (0.0, 25.0))\n",
    "\n",
    "affect!(integrator) = integrator.u[1] += 10\n",
    "cb = PeriodicCallback(affect!, 1.0)\n",
    "\n",
    "sol = solve(prob, Tsit5(), callback=cb)\n",
    "plot(sol)"
   ]
  },
  {
   "cell_type": "markdown",
   "metadata": {},
   "source": [
    "## ContinuousCallback: Bouncing Ball"
   ]
  },
  {
   "cell_type": "code",
   "execution_count": null,
   "metadata": {},
   "outputs": [],
   "source": [
    "using DifferentialEquations\n",
    "using Plots\n",
    "\n",
    "function ball!(du, u, p, t)\n",
    "    du[1] = u[2]\n",
    "    du[2] = -p\n",
    "end\n",
    "\n",
    "# When the ball touches the ground\n",
    "function condition(u, t, integrator) # Event when event_f(u,t) == 0\n",
    "    u[1]\n",
    "end\n",
    "\n",
    "function affect!(integrator)\n",
    "    integrator.u[2] = -integrator.u[2]\n",
    "end\n",
    "\n",
    "cb = ContinuousCallback(condition, affect!)\n",
    "\n",
    "u0 = [50.0, 0.0]\n",
    "tspan = (0.0, 15.0)\n",
    "p = 9.8\n",
    "\n",
    "prob = ODEProblem(ball!, u0, tspan, p)\n",
    "sol = solve(prob, Tsit5(), callback=cb)\n",
    "plot(sol, label=[\"Position\" \"Velocity\"])"
   ]
  },
  {
   "cell_type": "markdown",
   "metadata": {},
   "source": [
    "The solution is stable for repeated callbacks."
   ]
  },
  {
   "cell_type": "code",
   "execution_count": null,
   "metadata": {},
   "outputs": [],
   "source": [
    "tspan = (0.0, 100.0)\n",
    "prob = ODEProblem(ball!, u0, tspan, p)\n",
    "sol = solve(prob, Tsit5(), callback=cb)\n",
    "plot(sol, plotdensity=10000, label=[\"Position\" \"Velocity\"])"
   ]
  },
  {
   "cell_type": "markdown",
   "metadata": {},
   "source": [
    "## VectorContinuousCallback\n",
    "\n",
    "Simulating bouncing ball with multiple walls."
   ]
  },
  {
   "cell_type": "code",
   "execution_count": null,
   "metadata": {},
   "outputs": [],
   "source": [
    "function ball_2d!(du, u, p, t)\n",
    "    du[1] = u[2]  # x_pos\n",
    "    du[2] = -p    # x_vel  \n",
    "    du[3] = u[4]  # y_pos\n",
    "    du[4] = 0.0   # y_vel\n",
    "end\n",
    "\n",
    "# Vector condition\n",
    "function condition(out, u, t, integrator) # Event when event_f(u,t) == 0\n",
    "    out[1] = u[1]\n",
    "    out[2] = (u[3] - 10.0)u[3]\n",
    "end\n",
    "\n",
    "# Vector affect!\n",
    "function affect!(integrator, idx)\n",
    "    if idx == 1\n",
    "      integrator.u[2] = -0.9integrator.u[2]\n",
    "    elseif idx == 2\n",
    "      integrator.u[4] = -0.9integrator.u[4]\n",
    "    end\n",
    "end\n",
    "\n",
    "\n",
    "cb = VectorContinuousCallback(condition, affect!, 2)"
   ]
  },
  {
   "cell_type": "code",
   "execution_count": null,
   "metadata": {},
   "outputs": [],
   "source": [
    "u0 = [50.0, 0.0, 0.0, 2.0]\n",
    "tspan = (0.0, 15.0)\n",
    "p = 9.8\n",
    "prob = ODEProblem(ball_2d!, u0, tspan, p)\n",
    "sol = solve(prob, Tsit5(), callback=cb, dt=1e-3, adaptive=false)\n",
    "plot(sol, idxs=(3, 1))"
   ]
  },
  {
   "cell_type": "markdown",
   "metadata": {},
   "source": [
    "## Other Callbacks\n",
    "\n",
    "https://diffeq.sciml.ai/stable/features/callback_library/\n",
    "\n",
    "- `ManifoldProjection(g)`: keep `g(u) = 0`. For energy conservation.\n",
    "- `AutoAbstol()`: automatically adapt the absolute tolerance like [the functionality in MATLAB](https://www.mathworks.com/help/simulink/gui/absolute-tolerance.html).\n",
    "- `PositiveDomain()`: enforce non-negative solution. **The system should be defined also outside the positive domain**. There is also a more general version `GeneralDomain()`.\n",
    "- `StepsizeLimiter((u,p,t) -> maxtimestep)`: restrict maximual allowed time step.\n",
    "- `FunctionCallingCallback((u, t, int) -> func_content; funcat=[t1, t2, ...])`: call a function at the time points (t1, t2, ...) of interest.\n",
    "- `SavingCallback((u, t, int) -> data_to_be_saved, dataprototype)`: call a function and saves the result.\n",
    "- `IterativeCallback(time_choice(int) -> t2, user_affect!)`: apply an effect at the time of the next callback.\n",
    "- `TerminateSteadyState()`: run until the solution reaches a steady state."
   ]
  }
 ],
 "metadata": {
  "kernelspec": {
   "display_name": "Julia 1.8.1",
   "language": "julia",
   "name": "julia-1.8"
  },
  "language_info": {
   "file_extension": ".jl",
   "mimetype": "application/julia",
   "name": "julia",
   "version": "1.8.1"
  },
  "orig_nbformat": 4
 },
 "nbformat": 4,
 "nbformat_minor": 2
}
