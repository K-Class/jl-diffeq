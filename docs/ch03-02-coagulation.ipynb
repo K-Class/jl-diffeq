{
 "cells": [
  {
   "cell_type": "markdown",
   "metadata": {},
   "source": [
    "# Smoluchowski coagulation example\n",
    "\n",
    "> From [Catalyst docs](https://catalyst.sciml.ai/dev/tutorials/generating_reactions_programmatically/#Smoluchowski-Coagulation-Equation)\n",
    "\n",
    "Using `Reaction()` to create reactions and `ReactionSystem()` to collect reactions.\n",
    "\n",
    "[Smoluchowski coagulation equation](https://en.wikipedia.org/wiki/Smoluchowski_coagulation_equation)\n",
    "\n",
    "> The Smoluchowski coagulation equation describes a system of reactions in which monomers may collide to form dimers, monomers and dimers may collide to form trimers, and so on. This models a variety of chemical/physical processes, including polymerization and flocculation."
   ]
  },
  {
   "cell_type": "code",
   "execution_count": null,
   "metadata": {},
   "outputs": [],
   "source": [
    "using ModelingToolkit\n",
    "using Catalyst\n",
    "using LinearAlgebra\n",
    "using DifferentialEquations\n",
    "using Plots\n",
    "using SpecialFunctions"
   ]
  },
  {
   "cell_type": "code",
   "execution_count": null,
   "metadata": {},
   "outputs": [],
   "source": [
    "## Parameters\n",
    "N = 10                       # maximum cluster size\n",
    "Vₒ = (4π/3)*(10e-06*100)^3   # volume of a monomers in cm³\n",
    "Nₒ = 1e-06/Vₒ                # initial conc. = (No. of init. monomers) / bulk volume\n",
    "uₒ = 10000                   # No. of monomers initially\n",
    "V = uₒ/Nₒ                    # Bulk volume of system in cm³\n",
    "\n",
    "integ(x) = Int(floor(x))\n",
    "n        = integ(N/2)\n",
    "nr       = N%2 == 0 ? (n*(n + 1) - n) : (n*(n + 1)) # No. of forward reactions"
   ]
  },
  {
   "cell_type": "code",
   "execution_count": null,
   "metadata": {},
   "outputs": [],
   "source": [
    "# possible pairs of reactant multimers\n",
    "pair = []\n",
    "for i = 2:N\n",
    "    push!(pair,[1:integ(i/2)  i .- (1:integ(i/2))])\n",
    "end\n",
    "pair = vcat(pair...)\n",
    "vᵢ = @view pair[:,1]   # Reactant 1 indices\n",
    "vⱼ = @view pair[:,2]   # Reactant 2 indices\n",
    "volᵢ = Vₒ*vᵢ           # cm⁻³\n",
    "volⱼ = Vₒ*vⱼ           # cm⁻³\n",
    "sum_vᵢvⱼ = @. vᵢ + vⱼ  # Product index"
   ]
  },
  {
   "cell_type": "code",
   "execution_count": null,
   "metadata": {},
   "outputs": [],
   "source": [
    "# For simplicity, we allow a user-selected additive kernel or constant kernel.\n",
    "# set i to  1 for additive kernel, 2  for constant\n",
    "i = 1\n",
    "if i==1\n",
    "    B = 1.53e03                # s⁻¹\n",
    "    kv = @. B*(volᵢ + volⱼ)/V  # dividing by volume as its a bi-molecular reaction chain\n",
    "elseif i==2\n",
    "    C = 1.84e-04               # cm³ s⁻¹\n",
    "    kv = fill(C/V, nr) \n",
    "end"
   ]
  },
  {
   "cell_type": "code",
   "execution_count": null,
   "metadata": {},
   "outputs": [],
   "source": [
    "# state variables are X, pars stores rate parameters for each rx\n",
    "@parameters t k[1:nr]  \n",
    "@variables X(t)[1:N]\n",
    "pars = Pair.(collect(k), kv)\n",
    "\n",
    "# time-span\n",
    "if i == 1\n",
    "    tspan = (0. ,2000.)   \n",
    "elseif i == 2\n",
    "    tspan = (0. ,350.)\n",
    "end\n",
    "\n",
    " # initial condition of monomers\n",
    "u₀    = zeros(Int64, N)\n",
    "u₀[1] = uₒ  \n",
    "u₀map = Pair.(collect(X), u₀)   # map variable to its initial value"
   ]
  },
  {
   "cell_type": "code",
   "execution_count": null,
   "metadata": {},
   "outputs": [],
   "source": [
    "# vector to store the Reactions in\n",
    "rx = []              \n",
    "for n = 1:nr\n",
    "    # for clusters of the same size, double the rate\n",
    "    if (vᵢ[n] == vⱼ[n]) \n",
    "        push!(rx, Reaction(k[n], [X[vᵢ[n]]], [X[sum_vᵢvⱼ[n]]], [2], [1]))\n",
    "    else\n",
    "        push!(rx, Reaction(k[n], [X[vᵢ[n]], X[vⱼ[n]]], [X[sum_vᵢvⱼ[n]]], \n",
    "                           [1, 1], [1]))\n",
    "    end\n",
    "end\n",
    "@named rs = ReactionSystem(rx, t, collect(X), collect(k))"
   ]
  },
  {
   "cell_type": "code",
   "execution_count": null,
   "metadata": {},
   "outputs": [],
   "source": [
    "# solving the system\n",
    "jumpsys = convert(JumpSystem, rs)\n",
    "dprob   = DiscreteProblem(jumpsys, u₀map, tspan, pars)\n",
    "jprob   = JumpProblem(jumpsys, dprob, Direct(), save_positions=(false,false))\n",
    "jsol    = solve(jprob, SSAStepper(), saveat = tspan[2]/30)"
   ]
  },
  {
   "cell_type": "code",
   "execution_count": null,
   "metadata": {},
   "outputs": [],
   "source": [
    "# Results for first three polymers...i.e. monomers, dimers and trimers\n",
    "v_res = [1;2;3]\n",
    "\n",
    "# comparison with analytical solution\n",
    "# we only plot the stochastic solution at a small number of points\n",
    "# to ease distinguishing it from the exact solution\n",
    "t   = jsol.t\n",
    "sol = zeros(length(v_res), length(t))\n",
    "if i == 1\n",
    "    ϕ = @. 1 - exp(-B*Nₒ*Vₒ*t)    \n",
    "    for j in v_res\n",
    "        sol[j,:] = @. Nₒ*(1 - ϕ)*(((j*ϕ)^(j-1))/gamma(j+1))*exp(-j*ϕ)\n",
    "    end\n",
    "elseif i == 2\n",
    "    ϕ = @. (C*Nₒ*t)\n",
    "    for j in v_res\n",
    "        sol[j,:] = @. 4Nₒ*((ϕ^(j-1))/((ϕ + 2)^(j+1)))\n",
    "    end\n",
    "end\n",
    "\n",
    "# plotting normalised concentration vs analytical solution\n",
    "Plots.default(lw=2, xlabel=\"Time (sec)\")\n",
    "scatter(ϕ, jsol(t)[1,:]/uₒ, label=\"X1 (monomers)\", markercolor=:blue)\n",
    "plot!(ϕ, sol[1,:]/Nₒ, line = (:dot,4,:blue), label=\"Analytical sol--X1\")\n",
    "\n",
    "scatter!(ϕ, jsol(t)[2,:]/uₒ, label=\"X2 (dimers)\", markercolor=:orange)\n",
    "plot!(ϕ, sol[2,:]/Nₒ, line = (:dot,4,:orange), label=\"Analytical sol--X2\")\n",
    "\n",
    "scatter!(ϕ, jsol(t)[3,:]/uₒ, label=\"X3 (trimers)\", markercolor=:purple)\n",
    "plot!(ϕ, sol[3,:]/Nₒ, line = (:dot,4,:purple), label=\"Analytical sol--X3\", \n",
    "      ylabel = \"Normalized Concentration\")"
   ]
  }
 ],
 "metadata": {
  "kernelspec": {
   "display_name": "Julia 1.8.1",
   "language": "julia",
   "name": "julia-1.8"
  },
  "language_info": {
   "file_extension": ".jl",
   "mimetype": "application/julia",
   "name": "julia",
   "version": "1.8.1"
  },
  "orig_nbformat": 4
 },
 "nbformat": 4,
 "nbformat_minor": 2
}
