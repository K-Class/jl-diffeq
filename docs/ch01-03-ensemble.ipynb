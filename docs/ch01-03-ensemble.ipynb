{
 "cells": [
  {
   "cell_type": "markdown",
   "metadata": {},
   "source": [
    "# Parallel Ensemble Simulations\n",
    "\n",
    "Docs: <https://diffeq.sciml.ai/stable/features/ensemble/>"
   ]
  },
  {
   "cell_type": "markdown",
   "metadata": {},
   "source": [
    "## Solving an ODE With Different Initial Conditions\n",
    "\n",
    "Solving $\\dot{u} = 1.01u$ with $u(0)=0.5$ and $t \\in [0, 1]$\n"
   ]
  },
  {
   "cell_type": "code",
   "execution_count": null,
   "metadata": {},
   "outputs": [],
   "source": [
    "using DifferentialEquations\n",
    "using Plots"
   ]
  },
  {
   "cell_type": "code",
   "execution_count": null,
   "metadata": {},
   "outputs": [],
   "source": [
    "# Linear ODE which starts at 0.5 and solves from t=0.0 to t=1.0\n",
    "prob = ODEProblem((u,p,t)->1.01u, 0.5, (0.0, 1.0))"
   ]
  },
  {
   "cell_type": "code",
   "execution_count": null,
   "metadata": {},
   "outputs": [],
   "source": [
    "# Define a new problem for each trajectory\n",
    "# Change the initial condition (u0) in this example\n",
    "function prob_func(prob, i, repeat)\n",
    "    remake(prob, u0=rand() * prob.u0)\n",
    "end"
   ]
  },
  {
   "cell_type": "markdown",
   "metadata": {},
   "source": [
    "You could also obtain the necessary data from outside of the `prob_func()`\n",
    "\n",
    "```julia\n",
    "initial_conditions = range(0, stop=1, length=100)\n",
    "\n",
    "function prob_func(prob, i, repeat)\n",
    "  remake(prob, u0=initial_conditions[i])\n",
    "end\n",
    "```"
   ]
  },
  {
   "cell_type": "code",
   "execution_count": null,
   "metadata": {},
   "outputs": [],
   "source": [
    "ensemble_prob = EnsembleProblem(prob; prob_func=prob_func)\n",
    "\n",
    "# Ensemble simulations use multithreading by default\n",
    "sim = solve(ensemble_prob, trajectories=100)"
   ]
  },
  {
   "cell_type": "code",
   "execution_count": null,
   "metadata": {},
   "outputs": [],
   "source": [
    "# Each element of sim is an ODE solution\n",
    "sim[1]"
   ]
  },
  {
   "cell_type": "code",
   "execution_count": null,
   "metadata": {},
   "outputs": [],
   "source": [
    "plot(sim, linealpha=0.4)"
   ]
  },
  {
   "cell_type": "markdown",
   "metadata": {},
   "source": [
    "## Solving an SDE with Different Parameters"
   ]
  },
  {
   "cell_type": "code",
   "execution_count": null,
   "metadata": {},
   "outputs": [],
   "source": [
    "function lotka_volterra!(du, u, p, t)\n",
    "    du[1] = p[1] * u[1] - p[2] * u[1] * u[2]\n",
    "    du[2] = -3 * u[2] + u[1] * u[2]\n",
    "end\n",
    "\n",
    "function g!(du, u, p, t)\n",
    "    du[1] = p[3] * u[1]\n",
    "    du[2] = p[4] * u[2]\n",
    "end"
   ]
  },
  {
   "cell_type": "code",
   "execution_count": null,
   "metadata": {},
   "outputs": [],
   "source": [
    "p = [1.5, 1.0, 0.1, 0.1]\n",
    "prob = SDEProblem(lotka_volterra!, g!, [1.0, 1.0], (0.0, 10.0), p)"
   ]
  },
  {
   "cell_type": "code",
   "execution_count": null,
   "metadata": {},
   "outputs": [],
   "source": [
    "function prob_func(prob, i, repeat)\n",
    "    x = 0.3 * rand(2)\n",
    "    remake(prob, p=[p[1:2];x])\n",
    "end"
   ]
  },
  {
   "cell_type": "code",
   "execution_count": null,
   "metadata": {},
   "outputs": [],
   "source": [
    "ensemble_prob = EnsembleProblem(prob, prob_func=prob_func)\n",
    "sim = solve(ensemble_prob, SRIW1(), trajectories=10)"
   ]
  },
  {
   "cell_type": "code",
   "execution_count": null,
   "metadata": {},
   "outputs": [],
   "source": [
    "plot(sim, linealpha=0.6, color=:blue, idxs=(0,1))\n",
    "plot!(sim, linealpha=0.6, color=:red, idxs=(0,2))"
   ]
  },
  {
   "cell_type": "code",
   "execution_count": null,
   "metadata": {},
   "outputs": [],
   "source": [
    "summ = EnsembleSummary(sim, 0:0.1:10)\n",
    "plot(summ, fillalpha=0.5)"
   ]
  }
 ],
 "metadata": {
  "kernelspec": {
   "display_name": "Julia 1.8.1",
   "language": "julia",
   "name": "julia-1.8"
  },
  "language_info": {
   "file_extension": ".jl",
   "mimetype": "application/julia",
   "name": "julia",
   "version": "1.8.1"
  },
  "orig_nbformat": 4
 },
 "nbformat": 4,
 "nbformat_minor": 2
}
