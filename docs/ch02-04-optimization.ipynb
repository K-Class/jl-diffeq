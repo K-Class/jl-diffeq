{
 "cells": [
  {
   "cell_type": "markdown",
   "metadata": {},
   "source": [
    "# Optimization Problems\n",
    "\n",
    "From: https://mtk.sciml.ai/dev/tutorials/optimization/\n",
    "\n",
    "Find $(x, y)$ that minimizes the loss function $(a - x)^2 + b(y - x^2)^2$"
   ]
  },
  {
   "cell_type": "code",
   "execution_count": null,
   "metadata": {},
   "outputs": [],
   "source": [
    "using ModelingToolkit\n",
    "using Optimization\n",
    "using OptimizationOptimJL"
   ]
  },
  {
   "cell_type": "code",
   "execution_count": null,
   "metadata": {},
   "outputs": [],
   "source": [
    "@variables x y\n",
    "@parameters a b\n",
    "\n",
    "loss = (a - x)^2 + b * (y - x^2)^2\n",
    "\n",
    "@named sys = OptimizationSystem(loss, [x, y], [a, b])"
   ]
  },
  {
   "cell_type": "code",
   "execution_count": null,
   "metadata": {},
   "outputs": [],
   "source": [
    "u0 = [\n",
    "    x=>1.0\n",
    "    y=>2.0\n",
    "]\n",
    "p = [\n",
    "    a => 6.0\n",
    "    b => 7.0\n",
    "]\n",
    "\n",
    "# Generate Gradient and Hessian for the optimizer\n",
    "prob = OptimizationProblem(sys, u0, p, grad=true, hess=true)\n",
    "sol = solve(prob, Newton()) # Should be (6.0, 36.0)"
   ]
  }
 ],
 "metadata": {
  "kernelspec": {
   "display_name": "Julia 1.8.1",
   "language": "julia",
   "name": "julia-1.8"
  },
  "language_info": {
   "file_extension": ".jl",
   "mimetype": "application/julia",
   "name": "julia",
   "version": "1.8.1"
  },
  "orig_nbformat": 4
 },
 "nbformat": 4,
 "nbformat_minor": 2
}
