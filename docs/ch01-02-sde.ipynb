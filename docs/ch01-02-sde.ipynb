{
 "cells": [
  {
   "cell_type": "markdown",
   "metadata": {},
   "source": [
    "# Stochastic Differential Equations (SDEs) and Random ODEs (RODEs)\n",
    "\n",
    "- [Wikipedia: Stochastic Differential Equations](https://en.wikipedia.org/wiki/Stochastic_differential_equation)\n",
    "- [SDE example](https://diffeq.sciml.ai/stable/tutorials/sde_example/) in `DifferentialEquations.jl`\n",
    "- [RODE example](https://diffeq.sciml.ai/stable/tutorials/rode_example/) in `DifferentialEquations.jl`"
   ]
  },
  {
   "cell_type": "markdown",
   "metadata": {},
   "source": [
    "## Stochastic Differential Equations (SDEs)\n",
    "\n",
    "### Scalar SDEs with one state variable\n",
    "\n",
    "Solving the equation: $du=f(u,p,t)dt + g(u,p,t)dW$\n",
    "\n",
    "- $f(u,p,t)$ is the ordinary differential equations (ODEs) part\n",
    "- $g(u,p,t)$ is the stochastic part, paired with a Brownian motion term $dW$.\n",
    "\n",
    "If $f(u,p,t) = \\alpha u$ and $g(u,p,t) = \\beta u$, the analytical solution is $u(t, W_t) = u_0 exp((\\alpha - \\frac{\\beta^2}{2})t + \\beta W_t)$"
   ]
  },
  {
   "cell_type": "code",
   "execution_count": null,
   "metadata": {},
   "outputs": [],
   "source": [
    "using DifferentialEquations\n",
    "using Plots\n",
    "\n",
    "f(u, p, t) = p.α * u\n",
    "g(u, p, t) = p.β * u\n",
    "\n",
    "p = (α=1, β=1)\n",
    "u₀ = 1/2\n",
    "dt = 1//2^(4)\n",
    "tspan = (0.0,1.0)\n",
    "prob = SDEProblem(f, g, u₀, (0.0, 1.0), p)"
   ]
  },
  {
   "cell_type": "code",
   "execution_count": null,
   "metadata": {},
   "outputs": [],
   "source": [
    "# use the classic Euler-Maruyama algorithm\n",
    "sol = solve(prob, EM(), dt=dt)\n",
    "plot(sol)"
   ]
  },
  {
   "cell_type": "code",
   "execution_count": null,
   "metadata": {},
   "outputs": [],
   "source": [
    "# Compare to the analytical soolution\n",
    "f_analytic(u₀, p, t, W) = u₀ * exp((p.α - (p.β^2) / 2) * t + p.β * W)\n",
    "# Combine model and analytic functions\n",
    "ff = SDEFunction(f, g, analytic=f_analytic)\n",
    "prob = SDEProblem(ff, g, u₀, (0.0,1.0), p)\n",
    "sol = solve(prob, EM(), dt=dt)\n",
    "plot(sol, plot_analytic=true)"
   ]
  },
  {
   "cell_type": "code",
   "execution_count": null,
   "metadata": {},
   "outputs": [],
   "source": [
    "# choose a higher-order solver for a more accurate result\n",
    "sol = solve(prob, SRIW1(), dt=dt, adaptive=false)\n",
    "plot(sol, plot_analytic=true)"
   ]
  },
  {
   "cell_type": "code",
   "execution_count": null,
   "metadata": {},
   "outputs": [],
   "source": [
    "# The solver can find dt itself\n",
    "sol = solve(prob, SRIW1())\n",
    "plot(sol, plot_analytic=true)"
   ]
  },
  {
   "cell_type": "markdown",
   "metadata": {},
   "source": [
    "### Diagonal Noise\n",
    "\n",
    "Each state variable are subject to its own noise."
   ]
  },
  {
   "cell_type": "code",
   "execution_count": null,
   "metadata": {},
   "outputs": [],
   "source": [
    "using DifferentialEquations\n",
    "using Plots\n",
    "\n",
    "function lorenz!(du, u, p, t)\n",
    "    du[1] = 10.0(u[2]-u[1])\n",
    "    du[2] = u[1]*(28.0-u[3]) - u[2]\n",
    "    du[3] = u[1]*u[2] - (8/3)*u[3]\n",
    "end\n",
    "  \n",
    "function σ_lorenz!(du, u, p, t)\n",
    "    du[1] = 3.0\n",
    "    du[2] = 3.0\n",
    "    du[3] = 3.0\n",
    "end\n",
    "  \n",
    "prob_sde_lorenz = SDEProblem(lorenz!, σ_lorenz!, [1.0, 0.0, 0.0], (0.0, 20.0))\n",
    "sol = solve(prob_sde_lorenz)\n",
    "\n",
    "plot(sol, idxs=(1,2,3))"
   ]
  },
  {
   "cell_type": "markdown",
   "metadata": {},
   "source": [
    "### Scalar Noise\n",
    "\n",
    "The same noise process (`W`) is applied to all state variables."
   ]
  },
  {
   "cell_type": "code",
   "execution_count": null,
   "metadata": {},
   "outputs": [],
   "source": [
    "using DifferentialEquations\n",
    "using Plots\n",
    "\n",
    "f(du, u, p, t) = (du .= u)\n",
    "g(du, u, p, t) = (du .= u)\n",
    "u0 = rand(4, 2)\n",
    "\n",
    "W = WienerProcess(0.0, 0.0, 0.0)\n",
    "prob = SDEProblem(f, g, u0, (0.0,1.0), noise=W)\n",
    "sol = solve(prob, SRIW1())\n",
    "plot(sol)"
   ]
  },
  {
   "cell_type": "markdown",
   "metadata": {},
   "source": [
    "### Non-Diagonal (matrix) Noise\n",
    "\n",
    "A more general type of noise allows for the terms to linearly mixed via noise function `g` being a matrix.\n",
    "\n",
    "$$ \n",
    "\\begin{aligned}\n",
    "du_1 &= f_1(u,p,t)dt + g_{11}(u,p,t)dW_1 + g_{12}(u,p,t)dW_2 + g_{13}(u,p,t)dW_3 + g_{14}(u,p,t)dW_4  \\\\\n",
    "du_2 &= f_2(u,p,t)dt + g_{21}(u,p,t)dW_1 + g_{22}(u,p,t)dW_2 + g_{23}(u,p,t)dW_3 + g_{24}(u,p,t)dW_4\n",
    "\\end{aligned}\n",
    "$$"
   ]
  },
  {
   "cell_type": "code",
   "execution_count": null,
   "metadata": {},
   "outputs": [],
   "source": [
    "using DifferentialEquations\n",
    "using Plots\n",
    "\n",
    "# Model function\n",
    "function f(du, u, p, t) \n",
    "    du .= 1.01u\n",
    "end\n",
    "\n",
    "# Noise function\n",
    "function g(du, u, p, t)\n",
    "  du[1,1] = 0.3u[1]\n",
    "  du[1,2] = 0.6u[1]\n",
    "  du[1,3] = 0.9u[1]\n",
    "  du[1,4] = 0.12u[1]\n",
    "  du[2,1] = 1.2u[2]\n",
    "  du[2,2] = 0.2u[2]\n",
    "  du[2,3] = 0.3u[2]\n",
    "  du[2,4] = 1.8u[2]\n",
    "end\n",
    "\n",
    "u0 = ones(2)\n",
    "tspan = (0.0, 1.0)\n",
    "\n",
    "# The noise matrix itself is determined by the keyword argument noise_rate_prototype\n",
    "prob = SDEProblem(f, g, u0, tspan, noise_rate_prototype=zeros(2, 4))\n",
    "\n",
    "sol = solve(prob)\n",
    "plot(sol)"
   ]
  },
  {
   "cell_type": "markdown",
   "metadata": {},
   "source": [
    "### Recommended SDE solvers\n",
    "\n",
    "From: https://diffeq.sciml.ai/stable/solvers/sde_solve/#sde_solve\n",
    "\n",
    "- `EM` / `EulerHeun`: non-adaptive (fixed `dt`)\n",
    "- `SOSRI`: for most Ito diagonal and scalar noise problems\n",
    "- `SOSRA`: additive noise\n",
    "- `SRA3`: low tolerances (<`1e-4`?)\n",
    "- `RKMilCommute`: commutative noise\n",
    "- `LambaEM` / `LambaEulerHeun`: Non-diagonal problems\n",
    "- `ImplicitRKMil`: stiff problems with small diagonal noise\n",
    "- `DRI1`: a high number of Wiener processes"
   ]
  },
  {
   "cell_type": "markdown",
   "metadata": {},
   "source": [
    "## Random ODEs\n",
    "\n",
    "Random ODEs (RODEs) is a more general form that allows nonlinear mixings of randomness. \n",
    "\n",
    "$du = f(u, p, t, W) dt$ where $W(t)$ is a Wiener process (Gaussian process).\n",
    "\n",
    "`RODEProblem(f, u0, tspan [, params])` constructs an RODE problem. \n",
    "\n",
    "The model function signature is\n",
    "- `f(u, p, t, W)` (out-of-place form).\n",
    "- `f(du, u, p, t, W)` (in-place form)."
   ]
  },
  {
   "cell_type": "markdown",
   "metadata": {},
   "source": [
    "### Scalar RODEs\n",
    "\n",
    "$du = f(u,p,t,W) = 2usin(W)$"
   ]
  },
  {
   "cell_type": "code",
   "execution_count": null,
   "metadata": {},
   "outputs": [],
   "source": [
    "using DifferentialEquations\n",
    "using Plots\n",
    "\n",
    "function f(u, p, t, W)\n",
    "  2u * sin(W)\n",
    "end\n",
    "\n",
    "u0 = 1.00\n",
    "tspan = (0.0, 5.0)\n",
    "prob = RODEProblem(f, u0, tspan)\n",
    "sol = solve(prob, RandomEM(), dt=1/100)\n",
    "\n",
    "plot(sol)"
   ]
  },
  {
   "cell_type": "markdown",
   "metadata": {},
   "source": [
    "### Systems of RODEs\n",
    "\n",
    "Using the in-place form for the right-jand-side (RHS)."
   ]
  },
  {
   "cell_type": "code",
   "execution_count": null,
   "metadata": {},
   "outputs": [],
   "source": [
    "using DifferentialEquations\n",
    "using Plots\n",
    "\n",
    "function f(du, u, p, t, W)\n",
    "  du[1] = 2u[1] * sin(W[1] - W[2])\n",
    "  du[2] = -2u[2] * cos(W[1] + W[2])\n",
    "end\n",
    "\n",
    "u0 = [1.00, 1.00]\n",
    "tspan = (0.0, 5.0)\n",
    "\n",
    "prob = RODEProblem(f, u0, tspan)\n",
    "sol = solve(prob, RandomEM(), dt=1/100)\n",
    "\n",
    "plot(sol)"
   ]
  },
  {
   "cell_type": "markdown",
   "metadata": {},
   "source": [
    "### Recommended RODE solvers\n",
    "\n",
    "- `RandomEM`: The non-adpative, Euler-Maruyama method for RODEs. Currently the only implemented method."
   ]
  }
 ],
 "metadata": {
  "interpreter": {
   "hash": "1f3bff702bf1da8e3f3330b7919a9cb3964aed55c1665c55b737a458015923b1"
  },
  "kernelspec": {
   "display_name": "Julia 1.8.1",
   "language": "julia",
   "name": "julia-1.8"
  },
  "language_info": {
   "file_extension": ".jl",
   "mimetype": "application/julia",
   "name": "julia",
   "version": "1.8.1"
  },
  "orig_nbformat": 4
 },
 "nbformat": 4,
 "nbformat_minor": 2
}
