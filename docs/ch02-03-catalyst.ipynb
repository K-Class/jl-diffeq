{
 "cells": [
  {
   "cell_type": "markdown",
   "id": "dfb61911-844d-42d9-91b3-c30c6de37a16",
   "metadata": {},
   "source": [
    "# Catalyst\n",
    "\n",
    "`Catalyst.jl` is a domain specific language (DSL) for high performance simulation and modeling of chemical reaction networks. `Catalyst.jl` is based on `ModelingToolkit.jl` for symbolic transformations.\n",
    "\n",
    "See [Catalyst Docs](https://catalyst.sciml.ai/dev/) for details."
   ]
  },
  {
   "cell_type": "markdown",
   "id": "28d63a61",
   "metadata": {},
   "source": [
    "## Repressilator example\n",
    "\n",
    "Take the [Repressilator](https://en.wikipedia.org/wiki/Repressilator) for example:"
   ]
  },
  {
   "cell_type": "code",
   "execution_count": null,
   "id": "8ccb722b-6d18-475e-96c2-96b800420109",
   "metadata": {
    "execution": {
     "iopub.execute_input": "2022-03-02T08:59:22.168000Z",
     "iopub.status.busy": "2022-03-02T08:59:21.669000Z",
     "iopub.status.idle": "2022-03-02T08:59:48.338000Z",
     "shell.execute_reply": "2022-03-02T08:59:48.309000Z"
    }
   },
   "outputs": [],
   "source": [
    "using Catalyst\n",
    "using DifferentialEquations\n",
    "using Plots"
   ]
  },
  {
   "cell_type": "code",
   "execution_count": null,
   "id": "c7277800-0031-4302-8af5-590ae56cd794",
   "metadata": {
    "execution": {
     "iopub.execute_input": "2022-03-02T08:59:50.262000Z",
     "iopub.status.busy": "2022-03-02T08:59:48.341000Z",
     "iopub.status.idle": "2022-03-02T09:00:09.739000Z",
     "shell.execute_reply": "2022-03-02T09:00:09.739000Z"
    }
   },
   "outputs": [],
   "source": [
    "repressilator = @reaction_network begin\n",
    "    hillr(P₃,α,K,n), ∅ --> m₁\n",
    "    hillr(P₁,α,K,n), ∅ --> m₂\n",
    "    hillr(P₂,α,K,n), ∅ --> m₃\n",
    "    (δ,γ), m₁ ↔ ∅\n",
    "    (δ,γ), m₂ ↔ ∅\n",
    "    (δ,γ), m₃ ↔ ∅\n",
    "    β, m₁ --> m₁ + P₁\n",
    "    β, m₂ --> m₂ + P₂\n",
    "    β, m₃ --> m₃ + P₃\n",
    "    μ, P₁ --> ∅\n",
    "    μ, P₂ --> ∅\n",
    "    μ, P₃ --> ∅\n",
    "end α K n δ γ β μ"
   ]
  },
  {
   "cell_type": "markdown",
   "id": "fad32a94",
   "metadata": {},
   "source": [
    "### Querying the reaction network "
   ]
  },
  {
   "cell_type": "markdown",
   "id": "5b5c252a",
   "metadata": {},
   "source": [
    "The list of state variables"
   ]
  },
  {
   "cell_type": "code",
   "execution_count": null,
   "id": "7aed8745-a9ff-4efa-ab78-004b1fea0278",
   "metadata": {
    "execution": {
     "iopub.execute_input": "2022-03-02T09:00:09.742000Z",
     "iopub.status.busy": "2022-03-02T09:00:09.742000Z",
     "iopub.status.idle": "2022-03-02T09:00:12.834000Z",
     "shell.execute_reply": "2022-03-02T09:00:12.832000Z"
    }
   },
   "outputs": [],
   "source": [
    "states(repressilator)"
   ]
  },
  {
   "cell_type": "markdown",
   "id": "8a2d9485",
   "metadata": {},
   "source": [
    "The list of state parameters"
   ]
  },
  {
   "cell_type": "code",
   "execution_count": null,
   "id": "7ab71561-5d2f-4ed7-b1bd-83db08de65cf",
   "metadata": {
    "execution": {
     "iopub.execute_input": "2022-03-02T09:00:12.836000Z",
     "iopub.status.busy": "2022-03-02T09:00:12.836000Z",
     "iopub.status.idle": "2022-03-02T09:00:12.878000Z",
     "shell.execute_reply": "2022-03-02T09:00:12.878000Z"
    }
   },
   "outputs": [],
   "source": [
    "parameters(repressilator)"
   ]
  },
  {
   "cell_type": "markdown",
   "id": "dd92cce9",
   "metadata": {},
   "source": [
    "The list of reactions"
   ]
  },
  {
   "cell_type": "code",
   "execution_count": null,
   "id": "fdcb3c06",
   "metadata": {},
   "outputs": [],
   "source": [
    "reactions(repressilator)"
   ]
  },
  {
   "cell_type": "markdown",
   "id": "f5d06bb6",
   "metadata": {},
   "source": [
    "The `@unpack` macro extracts individual `ModelingToolkit`(MTK) symbols of state variable and/or parameter from the reaction network."
   ]
  },
  {
   "cell_type": "code",
   "execution_count": null,
   "id": "feb66cf1",
   "metadata": {},
   "outputs": [],
   "source": [
    "@unpack m₁, m₂, m₃ = repressilator"
   ]
  },
  {
   "cell_type": "markdown",
   "id": "730587eb-33f2-4fde-b63f-710322cdc60c",
   "metadata": {},
   "source": [
    "### Convert to an ODE system\n",
    "\n",
    "You can convert the reaction network to an `ODESystem` first, and later convert the `ODESystem` to an `ODEProblem`."
   ]
  },
  {
   "cell_type": "code",
   "execution_count": null,
   "id": "961905df",
   "metadata": {},
   "outputs": [],
   "source": [
    "odesys = convert(ODESystem, repressilator)"
   ]
  },
  {
   "cell_type": "markdown",
   "id": "b45c5ed0",
   "metadata": {},
   "source": [
    "To setup parameters (`ps`) and initial conditions (`u₀`), you can use symbols to specify the values."
   ]
  },
  {
   "cell_type": "code",
   "execution_count": null,
   "id": "a1ce1a0c",
   "metadata": {},
   "outputs": [],
   "source": [
    "p = (:α => .5, :K => 40, :n => 2, :δ => log(2)/120, :γ => 5e-3, :β => 20*log(2)/120, :μ => log(2)/60)\n",
    "u₀ = [:m₁ => 0., :m₂ => 0., :m₃ => 0., :P₁ => 20.,:P₂ => 0.,:P₃ => 0.]"
   ]
  },
  {
   "cell_type": "markdown",
   "id": "40bdf9f3",
   "metadata": {},
   "source": [
    "Or you can use extracted MTK symbols from `@unpack` macro (recommended, since it's less error-prone)"
   ]
  },
  {
   "cell_type": "code",
   "execution_count": null,
   "id": "35fd42da",
   "metadata": {},
   "outputs": [],
   "source": [
    "@unpack m₁, m₂, m₃, P₁, P₂, P₃, α, K, n, δ, γ, β, μ = repressilator\n",
    "\n",
    "p = [α => .5, K => 40, n => 2, δ => log(2)/120, γ => 5e-3, β => 20*log(2)/120, μ => log(2)/60]\n",
    "u₀ = [m₁ => 0., m₂ => 0., m₃ => 0., P₁ => 20., P₂ => 0., P₃ => 0.]"
   ]
  },
  {
   "cell_type": "markdown",
   "id": "6059f06b",
   "metadata": {},
   "source": [
    "Then we can solve this ODE problem"
   ]
  },
  {
   "cell_type": "code",
   "execution_count": null,
   "id": "c1f7e326-f3fe-44da-a82e-15540e4ba484",
   "metadata": {
    "execution": {
     "iopub.execute_input": "2022-03-02T09:00:12.883000Z",
     "iopub.status.busy": "2022-03-02T09:00:12.882000Z",
     "iopub.status.idle": "2022-03-02T09:00:46.054000Z",
     "shell.execute_reply": "2022-03-02T09:00:46.053000Z"
    }
   },
   "outputs": [],
   "source": [
    "tspan = (0., 10000.)\n",
    "oprob = ODEProblem(odesys, u₀, tspan, p)\n",
    "sol = solve(oprob)\n",
    "plot(sol)"
   ]
  },
  {
   "cell_type": "markdown",
   "id": "9650fcda",
   "metadata": {},
   "source": [
    "Using extracted symbols to plot a phase plot."
   ]
  },
  {
   "cell_type": "code",
   "execution_count": null,
   "id": "b09784c2-478b-4d96-abd5-199730832bc4",
   "metadata": {
    "execution": {
     "iopub.execute_input": "2022-03-02T09:00:46.056000Z",
     "iopub.status.busy": "2022-03-02T09:00:46.056000Z",
     "iopub.status.idle": "2022-03-02T09:01:07.877000Z",
     "shell.execute_reply": "2022-03-02T09:01:07.876000Z"
    }
   },
   "outputs": [],
   "source": [
    "plot(sol, idxs = (P₁, P₂))"
   ]
  },
  {
   "cell_type": "markdown",
   "id": "71184bed-e12a-46b9-b3cb-6ac9ef112e16",
   "metadata": {},
   "source": [
    "### Convert to Stochastic simulations\n",
    "\n",
    "You can create a stochastic model from the very same reaction network."
   ]
  },
  {
   "cell_type": "code",
   "execution_count": null,
   "id": "825a3596-878d-48c9-adbb-a0e4289369dd",
   "metadata": {
    "execution": {
     "iopub.execute_input": "2022-03-02T09:01:07.879000Z",
     "iopub.status.busy": "2022-03-02T09:01:07.879000Z",
     "iopub.status.idle": "2022-03-02T09:01:19.993000Z",
     "shell.execute_reply": "2022-03-02T09:01:19.992000Z"
    }
   },
   "outputs": [],
   "source": [
    "# redefine the initial condition to be integer valued\n",
    "u₀ = [m₁ => 0, m₂ => 0, m₃ => 0, P₁ => 20, P₂ => 0, P₃ => 0]\n",
    "\n",
    "# next we create a discrete problem to encode that our species are integer valued:\n",
    "dprob = DiscreteProblem(repressilator, u₀, tspan, p)\n",
    "\n",
    "# now, we create a JumpProblem, and specify Gillespie's Direct Method as the solver:\n",
    "jprob = JumpProblem(repressilator, dprob, Direct(), save_positions=(false,false))\n",
    "\n",
    "# now, let's solve and plot the jump process:\n",
    "sol = solve(jprob, SSAStepper(), saveat=10.)\n",
    "plot(sol)"
   ]
  },
  {
   "cell_type": "markdown",
   "id": "b87c79d0",
   "metadata": {},
   "source": [
    "## Chemical Langevin Equation (CLE) Stochastic Differential Equation (SDE) Models\n",
    "\n",
    "Stochastic Differential Equation (SDE) Models are in the middle ground of deterministic ODE model and Gillispie stochastic models, by introducing noise terms into the differential equations system.\n",
    "\n",
    "Take the birth-death process as example:"
   ]
  },
  {
   "cell_type": "code",
   "execution_count": null,
   "id": "2e296f77",
   "metadata": {},
   "outputs": [],
   "source": [
    "bdp = @reaction_network begin\n",
    "    c₁, X --> 2X\n",
    "    c₂, X --> 0\n",
    "    c₃, 0 --> X\n",
    "end c₁ c₂ c₃\n",
    "\n",
    "@unpack c₁, c₂, c₃, X = bdp\n",
    "\n",
    "p = (c₁ => 1.0, c₂ => 2.0, c₃ => 50.)\n",
    "u₀ = [X => 5.]\n",
    "tspan = (0., 4.)\n",
    "\n",
    "# SDEProblem for CLE\n",
    "sprob = SDEProblem(bdp, u₀, tspan, p)\n",
    "\n",
    "# solve and plot, tstops is used to specify enough points\n",
    "# that the plot looks well-resolved\n",
    "sol = solve(sprob, LambaEM(), tstops=range(0., step=4e-3, length=1001))\n",
    "plot(sol)"
   ]
  },
  {
   "cell_type": "markdown",
   "id": "fb0477b8-2b26-4cae-894d-2cbb12494b15",
   "metadata": {},
   "source": [
    "## Generating Reaction Systems Programmatically\n",
    "\n",
    "There are two ways to create a reaction for `ReactionSystem`s:\n",
    "- `Reaction()` function\n",
    "- `@reaction` macro"
   ]
  },
  {
   "cell_type": "markdown",
   "id": "a1165b90",
   "metadata": {},
   "source": [
    "First we define symbolic variables for each parameter and species in the system."
   ]
  },
  {
   "cell_type": "code",
   "execution_count": null,
   "id": "09475ae7",
   "metadata": {},
   "outputs": [],
   "source": [
    "using ModelingToolkit\n",
    "using Catalyst\n",
    "\n",
    "@parameters α K n δ γ β μ\n",
    "@variables t m₁(t) m₂(t) m₃(t) P₁(t) P₂(t) P₃(t)"
   ]
  },
  {
   "cell_type": "markdown",
   "id": "bc045278",
   "metadata": {},
   "source": [
    "### Reaction function\n",
    "\n",
    "The `Reaction(rate, substrates, products)` function builds reactions. To allow for other stoichiometric coefficients we also provide a five argument form: `Reaction(rate, substrates, products, substrate_stoichiometries, product_stoichiometries)`"
   ]
  },
  {
   "cell_type": "code",
   "execution_count": null,
   "id": "ee90ec32",
   "metadata": {},
   "outputs": [],
   "source": [
    "rxs = [Reaction(hillr(P₃,α,K,n), nothing, [m₁]),\n",
    "       Reaction(hillr(P₁,α,K,n), nothing, [m₂]),\n",
    "       Reaction(hillr(P₂,α,K,n), nothing, [m₃]),\n",
    "       Reaction(δ, [m₁], nothing),\n",
    "       Reaction(γ, nothing, [m₁]),\n",
    "       Reaction(δ, [m₂], nothing),\n",
    "       Reaction(γ, nothing, [m₂]),\n",
    "       Reaction(δ, [m₃], nothing),\n",
    "       Reaction(γ, nothing, [m₃]),\n",
    "       Reaction(β, [m₁], [m₁,P₁]),\n",
    "       Reaction(β, [m₂], [m₂,P₂]),\n",
    "       Reaction(β, [m₃], [m₃,P₃]),\n",
    "       Reaction(μ, [P₁], nothing),\n",
    "       Reaction(μ, [P₂], nothing),\n",
    "       Reaction(μ, [P₃], nothing)]"
   ]
  },
  {
   "cell_type": "markdown",
   "id": "33913a2b",
   "metadata": {},
   "source": [
    "Use `ReactionSystem(reactions, indenpendeent_variable)` to collect these reactions. `@named` macro is used because every system in `ModelingToolkit` needs a name. `@named x = System(...)` is a short hand for `x = System(...; name=:x)`"
   ]
  },
  {
   "cell_type": "code",
   "execution_count": null,
   "id": "fe216e94",
   "metadata": {},
   "outputs": [],
   "source": [
    "@named repressilator = ReactionSystem(rxs, t)"
   ]
  },
  {
   "cell_type": "markdown",
   "id": "ea14a883",
   "metadata": {},
   "source": [
    "### `@reaction` macro\n",
    "\n",
    "The `@reaction` macro provides the same short hand in the `@reaction_network` to build reactions. Note that `@reaction` macro only allows one-way reaction; reversible arrows are not allowed."
   ]
  },
  {
   "cell_type": "code",
   "execution_count": null,
   "id": "a35b63f7",
   "metadata": {},
   "outputs": [],
   "source": [
    "@variables t P₁(t) P₂(t) P₃(t)\n",
    "rxs = [(@reaction hillr($P₃,α,K,n), ∅ --> m₁),\n",
    "       (@reaction hillr($P₁,α,K,n), ∅ --> m₂),\n",
    "       (@reaction hillr($P₂,α,K,n), ∅ --> m₃),\n",
    "       (@reaction δ, m₁ --> ∅),\n",
    "       (@reaction γ, ∅ --> m₁),\n",
    "       (@reaction δ, m₂ --> ∅),\n",
    "       (@reaction γ, ∅ --> m₂),\n",
    "       (@reaction δ, m₃ --> ∅),\n",
    "       (@reaction γ, ∅ --> m₃),\n",
    "       (@reaction β, m₁ --> m₁ + P₁),\n",
    "       (@reaction β, m₂ --> m₂ + P₂),\n",
    "       (@reaction β, m₃ --> m₃ + P₃),\n",
    "       (@reaction μ, P₁ --> ∅),\n",
    "       (@reaction μ, P₂ --> ∅),\n",
    "       (@reaction μ, P₃ --> ∅)]\n",
    "@named repressilator2 = ReactionSystem(rxs, t)"
   ]
  },
  {
   "cell_type": "markdown",
   "id": "d0d30076",
   "metadata": {},
   "source": [
    "## Conservation laws\n",
    "\n",
    "We can use conservation laws to eliminiate state variables. For example, in the chemical reaction `A + B = C`, given the initial concentrations of A, B, and C, the solver only needs to solve one state variable (either [A], [B], or [C]) instead of all three of them."
   ]
  },
  {
   "cell_type": "code",
   "execution_count": null,
   "id": "a2c0d0ea",
   "metadata": {},
   "outputs": [],
   "source": [
    "using Catalyst\n",
    "using DifferentialEquations\n",
    "using Plots\n",
    "\n",
    "rn = @reaction_network begin\n",
    "    (k₊,k₋), A + B <--> C\n",
    "end k₊ k₋\n",
    "\n",
    "# initial condition and parameter values\n",
    "setdefaults!(rn, [:A => 1.0, :B => 2.0, :C => 0.0, :k₊ => 1.0, :k₋ => 1.0])"
   ]
  },
  {
   "cell_type": "markdown",
   "id": "e79c57a9",
   "metadata": {},
   "source": [
    "Let's convert it to a system of ODEs, using the conservation laws of the system to eliminate two of the species, leaving only one of them as the state variable."
   ]
  },
  {
   "cell_type": "code",
   "execution_count": null,
   "id": "88dcc13b",
   "metadata": {},
   "outputs": [],
   "source": [
    "osys = convert(ODESystem, rn; remove_conserved=true)"
   ]
  },
  {
   "cell_type": "markdown",
   "id": "02443ffd",
   "metadata": {},
   "source": [
    "The eliminated state variables are now observables. They can be derived from the remaining state variable, parameters, and initial conditions."
   ]
  },
  {
   "cell_type": "code",
   "execution_count": null,
   "id": "894365f4",
   "metadata": {},
   "outputs": [],
   "source": [
    "observed(osys)"
   ]
  },
  {
   "cell_type": "code",
   "execution_count": null,
   "id": "d05ad8bc",
   "metadata": {},
   "outputs": [],
   "source": [
    "oprob = ODEProblem(osys, [], (0.0, 10.0), [])\n",
    "sol = solve(oprob, Tsit5())"
   ]
  },
  {
   "cell_type": "markdown",
   "id": "79339209",
   "metadata": {},
   "source": [
    "If we only want to plot species C."
   ]
  },
  {
   "cell_type": "code",
   "execution_count": null,
   "id": "640b5703",
   "metadata": {},
   "outputs": [],
   "source": [
    "@unpack C = osys\n",
    "plot(sol, idxs=C)"
   ]
  }
 ],
 "metadata": {
  "kernelspec": {
   "display_name": "Julia 1.8.0",
   "language": "julia",
   "name": "julia-1.8"
  },
  "language_info": {
   "file_extension": ".jl",
   "mimetype": "application/julia",
   "name": "julia",
   "version": "1.8.0"
  }
 },
 "nbformat": 4,
 "nbformat_minor": 5
}
