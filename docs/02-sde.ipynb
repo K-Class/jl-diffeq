{
 "cells": [
  {
   "cell_type": "markdown",
   "metadata": {},
   "source": [
    "# Stochastic Differential Equations (SDEs)\n",
    "\n",
    "- [Wikipedia: Stochastic Differential Equations](https://en.wikipedia.org/wiki/Stochastic_differential_equation)\n",
    "- [SDE example](https://diffeq.sciml.ai/stable/tutorials/sde_example/) in `DifferentialEquations.jl`"
   ]
  },
  {
   "cell_type": "markdown",
   "metadata": {},
   "source": [
    "## Scalar SDEs\n",
    "\n",
    "Solving the equation: $du=f(u,p,t)dt + g(u,p,t)dW$\n",
    "\n",
    "- $f(u,p,t)$ is the ordinary differential equations (ODEs) part\n",
    "- $g(u,p,t)$ is the stochastic part, paired with a Brownian motion term $dW$.\n",
    "\n",
    "If $f(u,p,t) = \\alpha u$ and $g(u,p,t) = \\beta u$, the analytical solution is $u(t, W_t) = u_0 exp((\\alpha - \\frac{\\beta^2}{2})t + \\beta W_t)$"
   ]
  },
  {
   "cell_type": "code",
   "execution_count": null,
   "metadata": {},
   "outputs": [],
   "source": [
    "using DifferentialEquations\n",
    "using Plots\n",
    "\n",
    "f(u, p, t) = p.α * u\n",
    "g(u, p, t) = p.β * u\n",
    "\n",
    "p = (α=1, β=1)\n",
    "u₀ = 1/2\n",
    "dt = 1//2^(4)\n",
    "tspan = (0.0,1.0)\n",
    "prob = SDEProblem(f, g, u₀, (0.0,1.0), p)"
   ]
  },
  {
   "cell_type": "code",
   "execution_count": null,
   "metadata": {},
   "outputs": [],
   "source": [
    "# use the classic Euler-Maruyama algorithm\n",
    "sol = solve(prob,EM(), dt=dt)\n",
    "plot(sol)"
   ]
  },
  {
   "cell_type": "code",
   "execution_count": null,
   "metadata": {},
   "outputs": [],
   "source": [
    "# Compare to the analytical soolution\n",
    "f_analytic(u₀, p, t, W) = u₀ * exp((p.α - (p.β^2) / 2) * t + p.β * W)\n",
    "# Combine model and analytic functions\n",
    "ff = SDEFunction(f, g, analytic=f_analytic)\n",
    "prob = SDEProblem(ff, g, u₀, (0.0,1.0), p)\n",
    "sol = solve(prob, EM(), dt=dt)\n",
    "plot(sol, plot_analytic=true)"
   ]
  },
  {
   "cell_type": "code",
   "execution_count": null,
   "metadata": {},
   "outputs": [],
   "source": [
    "# choose a higher-order solver for a more accurate result\n",
    "sol = solve(prob, SRIW1(), dt=dt, adaptive=false)\n",
    "plot(sol, plot_analytic=true)"
   ]
  },
  {
   "cell_type": "code",
   "execution_count": null,
   "metadata": {},
   "outputs": [],
   "source": [
    "# The solver can find dt itself\n",
    "sol = solve(prob, SRIW1())\n",
    "plot(sol, plot_analytic=true)"
   ]
  },
  {
   "cell_type": "markdown",
   "metadata": {},
   "source": [
    "## Systems of SDEs with Diagonal Noise"
   ]
  },
  {
   "cell_type": "code",
   "execution_count": null,
   "metadata": {},
   "outputs": [],
   "source": [
    "function lorenz!(du,u,p,t)\n",
    "    du[1] = 10.0(u[2]-u[1])\n",
    "    du[2] = u[1]*(28.0-u[3]) - u[2]\n",
    "    du[3] = u[1]*u[2] - (8/3)*u[3]\n",
    "end\n",
    "  \n",
    "function σ_lorenz!(du,u,p,t)\n",
    "    du[1] = 3.0\n",
    "    du[2] = 3.0\n",
    "    du[3] = 3.0\n",
    "end\n",
    "  \n",
    "prob_sde_lorenz = SDEProblem(lorenz!,σ_lorenz!,[1.0,0.0,0.0],(0.0,20.0))\n",
    "sol = solve(prob_sde_lorenz)\n",
    "plot(sol,vars=(1,2,3))"
   ]
  },
  {
   "cell_type": "markdown",
   "metadata": {},
   "source": [
    "## Systems of SDEs with Scalar Noise\n",
    "\n",
    "The same noise process (`W`) is applied to all SDEs."
   ]
  },
  {
   "cell_type": "code",
   "execution_count": null,
   "metadata": {},
   "outputs": [],
   "source": [
    "f(du,u,p,t) = (du .= u)\n",
    "g(du,u,p,t) = (du .= u)\n",
    "u0 = rand(4,2)\n",
    "\n",
    "W = WienerProcess(0.0,0.0,0.0)\n",
    "prob = SDEProblem(f,g,u0,(0.0,1.0),noise=W)\n",
    "sol = solve(prob,SRIW1())\n",
    "plot(sol)"
   ]
  },
  {
   "cell_type": "markdown",
   "metadata": {},
   "source": [
    "## Random ODEs\n",
    "\n",
    "Random ODEs (RODEs) is a intermediate between ODE and SDE. $du = f(u,p,t,W) dt$ where $W(t)$ is a Wiener process (Gaussian process).\n",
    "\n",
    "Use `RODEProblem(f,u0,tspan)` to construct a RODE problem."
   ]
  },
  {
   "cell_type": "markdown",
   "metadata": {},
   "source": [
    "### Scalar RODEs\n",
    "\n",
    "$du = f(u,p,t,W) = 2usin(W)$"
   ]
  },
  {
   "cell_type": "code",
   "execution_count": null,
   "metadata": {},
   "outputs": [],
   "source": [
    "using DifferentialEquations\n",
    "using Plots\n",
    "\n",
    "function f(u,p,t,W)\n",
    "  2u * sin(W)\n",
    "end\n",
    "\n",
    "u0 = 1.00\n",
    "tspan = (0.0, 5.0)\n",
    "prob = RODEProblem(f, u0, tspan)\n",
    "sol = solve(prob, RandomEM(), dt=1/100)\n",
    "\n",
    "plot(sol)"
   ]
  },
  {
   "cell_type": "markdown",
   "metadata": {},
   "source": [
    "### Systems of RODEs\n",
    "\n",
    "Using the in-place form for the right-jand-side (RHS)."
   ]
  },
  {
   "cell_type": "code",
   "execution_count": null,
   "metadata": {},
   "outputs": [],
   "source": [
    "using DifferentialEquations\n",
    "using Plots\n",
    "\n",
    "function f(du, u, p, t, W)\n",
    "  du[1] = 2u[1] * sin(W[1] - W[2])\n",
    "  du[2] = -2u[2] * cos(W[1] + W[2])\n",
    "end\n",
    "\n",
    "u0 = [1.00; 1.00]\n",
    "tspan = (0.0, 5.0)\n",
    "\n",
    "prob = RODEProblem(f,u0,tspan)\n",
    "sol = solve(prob, RandomEM(), dt=1/100)\n",
    "\n",
    "plot(sol)"
   ]
  }
 ],
 "metadata": {
  "interpreter": {
   "hash": "1f3bff702bf1da8e3f3330b7919a9cb3964aed55c1665c55b737a458015923b1"
  },
  "kernelspec": {
   "display_name": "Julia 1.7.3",
   "language": "julia",
   "name": "julia-1.7"
  },
  "language_info": {
   "file_extension": ".jl",
   "mimetype": "application/julia",
   "name": "julia",
   "version": "1.7.3"
  },
  "orig_nbformat": 4
 },
 "nbformat": 4,
 "nbformat_minor": 2
}
