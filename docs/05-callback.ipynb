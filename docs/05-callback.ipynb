{
 "cells": [
  {
   "cell_type": "markdown",
   "metadata": {},
   "source": [
    "# Callbacks and Events\n",
    "\n",
    "Docs:\n",
    "- https://diffeq.sciml.ai/stable/features/callback_functions/#Using-Callbacks\n",
    "- https://tutorials.sciml.ai/html/introduction/04-callbacks_and_events.html\n",
    "\n",
    "## Types\n",
    "\n",
    "- `ContinuousCallback`: applied when a given *continuous condition* function hits zero. SciML solvers are able to interpolate the integration step to meet the condition.\n",
    "- `DiscreteCallback`: applied when its condition function is true.\n",
    "\n",
    "- `CallbackSet(cb1, cb2, ...)`: Multiple callbacks can be chained together to form a `CallbackSet`.\n",
    "- `VectorContinuousCallback`: an array of `ContinuousCallback`s.\n",
    "\n",
    "## How to\n",
    "\n",
    "After you define a callback, send it to the `solve()` function:\n",
    "\n",
    "```julia\n",
    "sol = solve(prob, alg, callback=cb)\n",
    "```"
   ]
  },
  {
   "cell_type": "markdown",
   "metadata": {},
   "source": [
    "## DiscreteCallback : Interventions at Preset Times\n",
    "\n",
    "The drug concentration in the blood follows exponential decay."
   ]
  },
  {
   "cell_type": "code",
   "execution_count": null,
   "metadata": {},
   "outputs": [],
   "source": [
    "using DifferentialEquations\n",
    "using Plots\n",
    "\n",
    "Plots.gr(lw=3)\n",
    "\n",
    "function f(du, u, p, t)\n",
    "    du[1] = -u[1]\n",
    "end\n",
    "\n",
    "u0 = [10.0]\n",
    "\n",
    "prob = ODEProblem(f, u0, (0.0,10.0))\n",
    "sol = solve(prob, Tsit5())\n",
    "\n",
    "plot(sol)"
   ]
  },
  {
   "cell_type": "markdown",
   "metadata": {},
   "source": [
    "Add a dose of 10 at t = 4. You may need to force the solver to stop at `t==4` (hence the `tstops=[4.0]`) to apply the callback."
   ]
  },
  {
   "cell_type": "code",
   "execution_count": null,
   "metadata": {},
   "outputs": [],
   "source": [
    "condition(u, t, integrator) = t==4\n",
    "affect!(integrator) = integrator.u[1] += 10\n",
    "cb = DiscreteCallback(condition, affect!)\n",
    "\n",
    "sol = solve(prob, Tsit5(), callback=cb, tstops=[4.0])\n",
    "plot(sol)"
   ]
  },
  {
   "cell_type": "markdown",
   "metadata": {},
   "source": [
    "Multiple doses."
   ]
  },
  {
   "cell_type": "code",
   "execution_count": null,
   "metadata": {},
   "outputs": [],
   "source": [
    "dosetimes = [4.0, 8.0]\n",
    "condition(u,t,integrator) = t ∈ dosetimes\n",
    "affect!(integrator) = integrator.u[1] += 10\n",
    "cb = DiscreteCallback(condition,affect!)\n",
    "\n",
    "sol = solve(prob, Tsit5(), callback=cb, tstops=dosetimes)\n",
    "plot(sol)"
   ]
  }
 ],
 "metadata": {
  "kernelspec": {
   "display_name": "Julia 1.7.3",
   "language": "julia",
   "name": "julia-1.7"
  },
  "language_info": {
   "file_extension": ".jl",
   "mimetype": "application/julia",
   "name": "julia",
   "version": "1.7.3"
  },
  "orig_nbformat": 4
 },
 "nbformat": 4,
 "nbformat_minor": 2
}
